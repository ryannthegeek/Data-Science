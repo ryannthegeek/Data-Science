{
 "cells": [
  {
   "attachments": {},
   "cell_type": "markdown",
   "metadata": {},
   "source": [
    "# Seaborn Library For Data Science\n",
    "\n",
    "- Seaborn is another visualization Python library built on top of Matplotlib.\n",
    "- It extends the functionality of Matplotlib and allows creating a variety of different graphs with fewer syntax.\n",
    "- More details can be found on Data Visualization with Python\n",
    "\n",
    "\n"
   ]
  }
 ],
 "metadata": {
  "kernelspec": {
   "display_name": "base",
   "language": "python",
   "name": "python3"
  },
  "language_info": {
   "name": "python",
   "version": "3.9.16"
  },
  "orig_nbformat": 4
 },
 "nbformat": 4,
 "nbformat_minor": 2
}
