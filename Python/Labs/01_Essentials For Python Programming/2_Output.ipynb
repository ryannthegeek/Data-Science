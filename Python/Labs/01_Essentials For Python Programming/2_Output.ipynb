{
 "cells": [
  {
   "attachments": {},
   "cell_type": "markdown",
   "metadata": {},
   "source": [
    "# Output"
   ]
  },
  {
   "cell_type": "code",
   "execution_count": 1,
   "metadata": {},
   "outputs": [
    {
     "name": "stdout",
     "output_type": "stream",
     "text": [
      "The value of x is 20 and the value of y is 30\n"
     ]
    }
   ],
   "source": [
    "x = 20\n",
    "y = 30\n",
    "print(\"The value of x is {} and the value of y is {}\".format(x, y))"
   ]
  },
  {
   "cell_type": "code",
   "execution_count": 2,
   "metadata": {},
   "outputs": [
    {
     "name": "stdout",
     "output_type": "stream",
     "text": [
      "I like Jesus and also like Holyghost\n"
     ]
    }
   ],
   "source": [
    "print(\"I like {0} and also like {1}\".format(\"Jesus\", \"Holyghost\"))"
   ]
  },
  {
   "cell_type": "code",
   "execution_count": 3,
   "metadata": {},
   "outputs": [
    {
     "name": "stdout",
     "output_type": "stream",
     "text": [
      "Hi Marcelo, welcome\n"
     ]
    }
   ],
   "source": [
    "# Using keyword atgs to format\n",
    "print(\"Hi {name}, {greet}\".format(greet = \"welcome\", name = \"Marcelo\"))"
   ]
  },
  {
   "cell_type": "code",
   "execution_count": 4,
   "metadata": {},
   "outputs": [
    {
     "name": "stdout",
     "output_type": "stream",
     "text": [
      "5 is of type <class 'int'>\n",
      "3.5 is of type <class 'float'>\n",
      "(2+3j) is of type <class 'complex'>\n"
     ]
    }
   ],
   "source": [
    "x = 5\n",
    "y = 3.5\n",
    "z = 2 + 3j\n",
    "\n",
    "print(x, \"is of type\", type(x))\n",
    "print(y, \"is of type\", type(y))\n",
    "print(z, \"is of type\", type(z))"
   ]
  }
 ],
 "metadata": {
  "kernelspec": {
   "display_name": "base",
   "language": "python",
   "name": "python3"
  },
  "language_info": {
   "codemirror_mode": {
    "name": "ipython",
    "version": 3
   },
   "file_extension": ".py",
   "mimetype": "text/x-python",
   "name": "python",
   "nbconvert_exporter": "python",
   "pygments_lexer": "ipython3",
   "version": "3.9.13"
  },
  "orig_nbformat": 4,
  "vscode": {
   "interpreter": {
    "hash": "984227874f9940044bd041d1cfd0308eaa8d40441275bc1d127b1a36c49d1f76"
   }
  }
 },
 "nbformat": 4,
 "nbformat_minor": 2
}
