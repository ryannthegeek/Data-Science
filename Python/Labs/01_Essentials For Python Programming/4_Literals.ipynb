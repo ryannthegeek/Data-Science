{
 "cells": [
  {
   "attachments": {},
   "cell_type": "markdown",
   "metadata": {},
   "source": [
    "# Literals\n",
    "\n",
    "Literals are the raw data given in a variable.\n",
    "\n",
    "There are three types of literals;\n",
    "\n",
    "## Numeric literals\n",
    "\n",
    "- They contain; binary, decimal, octal, Hexadecimal.\n",
    "\n",
    "- They are unchangeable.\n",
    "\n",
    "- Int, float and complex literals.\n",
    "- Sequence of characters\n",
    "- Single line and multi-line literals"
   ]
  },
  {
   "cell_type": "code",
   "execution_count": 1,
   "metadata": {},
   "outputs": [
    {
     "name": "stdout",
     "output_type": "stream",
     "text": [
      "10 50 200 300\n",
      "11.7 150.0\n"
     ]
    }
   ],
   "source": [
    "num1 = 0b1010 # binary\n",
    "num2 = 50 # decimal\n",
    "num3 = 0o310 # octal\n",
    "num4 = 0x12c # Hexadecimal\n",
    "\n",
    "num5 = 11.7 # float\n",
    "num6 = 1.5e2\n",
    "num7 = 3.2j # complex\n",
    "\n",
    "print(num1, num2, num3, num4)\n",
    "print(num5, num6)"
   ]
  },
  {
   "cell_type": "code",
   "execution_count": 2,
   "metadata": {},
   "outputs": [
    {
     "name": "stdout",
     "output_type": "stream",
     "text": [
      "Python is available\n",
      "I\n",
      "This is\n",
      " a multi-line\n",
      "raw \\n string!\n",
      "Ünicöde\n"
     ]
    }
   ],
   "source": [
    "msg = \"Python is available\"\n",
    "char = \"I\"\n",
    "multi_line = \"\"\"This is\n",
    " a multi-line\"\"\"\n",
    "unicode = u\"\\u00dcnic\\u00f6de\"\n",
    "raw_string = r\"raw \\n string!\"\n",
    "\n",
    "print(msg)\n",
    "print(char)\n",
    "print(multi_line)\n",
    "print(raw_string)\n",
    "print(unicode)"
   ]
  },
  {
   "attachments": {},
   "cell_type": "markdown",
   "metadata": {},
   "source": [
    "## Boolean Literals\n",
    "\n",
    "- `True==1`\n",
    "- `false==0`"
   ]
  },
  {
   "cell_type": "code",
   "execution_count": 3,
   "metadata": {},
   "outputs": [
    {
     "name": "stdout",
     "output_type": "stream",
     "text": [
      "Available\n",
      "None\n"
     ]
    }
   ],
   "source": [
    "drink = \"Available\"\n",
    "food = None\n",
    "\n",
    "def new_menu(i):\n",
    "    if i == drink:\n",
    "        print(drink)\n",
    "    else:\n",
    "        print(food)\n",
    "\n",
    "new_menu(drink)\n",
    "new_menu(food)"
   ]
  },
  {
   "attachments": {},
   "cell_type": "markdown",
   "metadata": {},
   "source": [
    "## Collections literals\n",
    "\n",
    "- List\n",
    "- Tuple\n",
    "- Dictionary\n",
    "- Set"
   ]
  },
  {
   "cell_type": "code",
   "execution_count": 4,
   "metadata": {},
   "outputs": [
    {
     "name": "stdout",
     "output_type": "stream",
     "text": [
      "['fig', 'lemon', 'banana']\n",
      "{'first word': 'Banana', 'Second word': 'Hi'}\n",
      "{'A', 'B', 'c'}\n",
      "(1, 2, 3, 4, 5, 6, 7, 8, 9)\n"
     ]
    }
   ],
   "source": [
    "# Literal collections\n",
    "fruits = [\"fig\", \"lemon\", \"banana\"]\n",
    "numbers = (1, 2, 3, 4, 5, 6, 7, 8, 9)\n",
    "words = {\"first word\": \"Banana\", \"Second word\": \"Hi\"}\n",
    "chars = {'A', 'B', 'c'}\n",
    "\n",
    "print(fruits)\n",
    "print(words)\n",
    "print(chars)\n",
    "print(numbers)"
   ]
  }
 ],
 "metadata": {
  "kernelspec": {
   "display_name": "base",
   "language": "python",
   "name": "python3"
  },
  "language_info": {
   "codemirror_mode": {
    "name": "ipython",
    "version": 3
   },
   "file_extension": ".py",
   "mimetype": "text/x-python",
   "name": "python",
   "nbconvert_exporter": "python",
   "pygments_lexer": "ipython3",
   "version": "3.9.13"
  },
  "orig_nbformat": 4,
  "vscode": {
   "interpreter": {
    "hash": "984227874f9940044bd041d1cfd0308eaa8d40441275bc1d127b1a36c49d1f76"
   }
  }
 },
 "nbformat": 4,
 "nbformat_minor": 2
}
