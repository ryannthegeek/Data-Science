{
 "cells": [
  {
   "attachments": {},
   "cell_type": "markdown",
   "metadata": {},
   "source": [
    "# Tuple\n",
    "\n",
    "A tuple is a sequence of immutable variables python objects. It is usually written using \\fcolorbox{black}{yellow}{parentheses}.\n",
    "\n",
    "Characteristics of lists:\n",
    "\n",
    "\\begin{itemize}\n",
    "    \\item[\\ding{51}] Ordered sequence.\n",
    "    \\item[\\ding{51}] Immutable sequence.\n",
    "    \\item[\\ding{51}] Protect data.\n",
    "    \\item[\\ding{51}] Faster than lists.\n",
    "    \\item[\\ding{51}] One tuple can contain many data types together. \\fcolorbox{black}{cyan}{Eg:} \\nl{(\"Hi\", True, 1, 3.8)}\n",
    "\\end{itemize}"
   ]
  },
  {
   "cell_type": "code",
   "execution_count": 1,
   "metadata": {},
   "outputs": [
    {
     "name": "stdout",
     "output_type": "stream",
     "text": [
      "('physics', 'chemistry', 1997, 2000) (1, 2, 3, 4, 5, 6, 7, 8, 9, 10, 11)\n",
      "<class 'tuple'>\n",
      "('physics', 'chemistry')\n"
     ]
    }
   ],
   "source": [
    "tup1 = ('physics', 'chemistry', 1997, 2000,)\n",
    "tup2 = (1, 2, 3, 4, 5, 6, 7, 8, 9, 10, 11)\n",
    "print(tup1, tup2)\n",
    "print(type(tup1))\n",
    "print(tup1[0:2])"
   ]
  },
  {
   "cell_type": "code",
   "execution_count": 2,
   "metadata": {},
   "outputs": [
    {
     "name": "stdout",
     "output_type": "stream",
     "text": [
      "('Apple', 'Google', 'Microsoft')\n"
     ]
    }
   ],
   "source": [
    "# Creating tuple using tuple()\n",
    "new_t = tuple((\"Apple\", \"Google\", \"Microsoft\"))\n",
    "print(new_t)"
   ]
  },
  {
   "attachments": {},
   "cell_type": "markdown",
   "metadata": {},
   "source": [
    "## Built-in tuple function\n",
    "\n",
    "`len(tuple)` : Gives the total length of the tuple\n",
    "\n",
    "`max(tuple)` : Returns item from the tuple with max value\n",
    "\n",
    "`min(tuple)` : Returns item from the tuple with min value\n",
    "\n",
    "`tuple` : Converts  a sequence into a tuple"
   ]
  }
 ],
 "metadata": {
  "kernelspec": {
   "display_name": "base",
   "language": "python",
   "name": "python3"
  },
  "language_info": {
   "codemirror_mode": {
    "name": "ipython",
    "version": 3
   },
   "file_extension": ".py",
   "mimetype": "text/x-python",
   "name": "python",
   "nbconvert_exporter": "python",
   "pygments_lexer": "ipython3",
   "version": "3.9.13"
  },
  "orig_nbformat": 4,
  "vscode": {
   "interpreter": {
    "hash": "984227874f9940044bd041d1cfd0308eaa8d40441275bc1d127b1a36c49d1f76"
   }
  }
 },
 "nbformat": 4,
 "nbformat_minor": 2
}
