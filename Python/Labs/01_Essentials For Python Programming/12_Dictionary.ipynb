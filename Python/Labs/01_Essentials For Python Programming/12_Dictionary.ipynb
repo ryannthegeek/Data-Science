{
 "cells": [
  {
   "attachments": {},
   "cell_type": "markdown",
   "metadata": {},
   "source": [
    "# Dictionary\n",
    "\n",
    "A dictionary is a Comma separated pairs of key and value enclosed in \\fcolorbox{black}{yellow}{curly brackets}. Each key is separated from its value by a \\fcolorbox{black}{yellow}{colon (:)}. Keys are unique within a dictionary while values may not be.\n",
    "\n",
    "Properties of a dictionary:\n",
    "\n",
    "\\begin{itemize}\n",
    "    \\item[\\ding{51}] The values of a dictionary can be of any type.\n",
    "    \\item[\\ding{51}] Unordered and changeable.\n",
    "    \\item[\\ding{51}] No duplicates.\n",
    "    \\item[\\ding{51}] Keys must be of an immutable data type such as strings,numbers, or tuples.\n",
    "\\end{itemize}\n",
    "\n",
    "\\ding{226} \\textbf{Syntax:} `{key1: value1, key2: value2}`"
   ]
  },
  {
   "cell_type": "code",
   "execution_count": 1,
   "metadata": {},
   "outputs": [
    {
     "name": "stdout",
     "output_type": "stream",
     "text": [
      "{'Brand': 'BMW', 'Model': 'XS', 'Year': 2017}\n"
     ]
    },
    {
     "data": {
      "text/plain": [
       "dict"
      ]
     },
     "execution_count": 1,
     "metadata": {},
     "output_type": "execute_result"
    }
   ],
   "source": [
    "newcars = {\n",
    "    \"Brand\": \"BMW\",\n",
    "    \"Model\": \"XS\",\n",
    "    \"Year\": 2017\n",
    "}\n",
    "print(newcars)\n",
    "type(newcars)"
   ]
  },
  {
   "cell_type": "code",
   "execution_count": 2,
   "metadata": {},
   "outputs": [
    {
     "name": "stdout",
     "output_type": "stream",
     "text": [
      "BMW\n",
      "BMW\n",
      "dict_keys(['Brand', 'Model', 'Year'])\n"
     ]
    }
   ],
   "source": [
    "print(newcars[\"Brand\"])\n",
    "x = newcars.get(\"Brand\")\n",
    "print(x)\n",
    "\n",
    "x1 = newcars.keys()\n",
    "print(x1) # printing the keys in the dictionary"
   ]
  },
  {
   "cell_type": "code",
   "execution_count": 3,
   "metadata": {},
   "outputs": [
    {
     "name": "stdout",
     "output_type": "stream",
     "text": [
      "{'Brand': 'BMW', 'Model': 'XS', 'Year': 2017, 'Color': 'black'}\n",
      "dict_values(['BMW', 'XS', 2017, 'black'])\n"
     ]
    }
   ],
   "source": [
    "# Add a new item to the dictionary\n",
    "newcars[\"Color\"] = \"black\"\n",
    "print(newcars)\n",
    "\n",
    "# printing only values of the dictionary\n",
    "x = newcars.values()\n",
    "print(x)"
   ]
  },
  {
   "cell_type": "code",
   "execution_count": 4,
   "metadata": {},
   "outputs": [
    {
     "data": {
      "text/plain": [
       "dict_items([('Brand', 'BMW'), ('Model', 'XS'), ('Year', 2017), ('Color', 'black')])"
      ]
     },
     "execution_count": 4,
     "metadata": {},
     "output_type": "execute_result"
    }
   ],
   "source": [
    "# Printing all items in the dictionary\n",
    "newcars.items()"
   ]
  },
  {
   "cell_type": "code",
   "execution_count": 5,
   "metadata": {},
   "outputs": [
    {
     "name": "stdout",
     "output_type": "stream",
     "text": [
      "Yes\n"
     ]
    }
   ],
   "source": [
    "# accessing items in the dictionary\n",
    "if \"Color\" in newcars:\n",
    "    print(\"Yes\")"
   ]
  },
  {
   "cell_type": "code",
   "execution_count": 6,
   "metadata": {},
   "outputs": [
    {
     "name": "stdout",
     "output_type": "stream",
     "text": [
      "{'Name': 'Zara', 'Age': 7, 'Class': 'First'}\n",
      "<class 'dict'>\n",
      "Zara\n"
     ]
    }
   ],
   "source": [
    "dict1 = {'Name': 'Zara', 'Age': 7, 'Class': 'First'}\n",
    "print(dict1)\n",
    "print(type(dict1))\n",
    "print(dict1['Name'])"
   ]
  },
  {
   "cell_type": "code",
   "execution_count": 7,
   "metadata": {},
   "outputs": [
    {
     "name": "stdout",
     "output_type": "stream",
     "text": [
      "{'Name': 'Zara', 'Age': 8, 'Class': 'First', 'School': 'SIBEA'}\n"
     ]
    }
   ],
   "source": [
    "# Update\n",
    "dict1['Age'] = 8 # Update existing entry\n",
    "dict1['School'] = \"SIBEA\" # Add new entry\n",
    "print(dict1)"
   ]
  },
  {
   "cell_type": "code",
   "execution_count": 8,
   "metadata": {},
   "outputs": [
    {
     "name": "stdout",
     "output_type": "stream",
     "text": [
      "directory after removing element {'Age': 8, 'Class': 'First', 'School': 'SIBEA'}\n",
      "directory after clear <class 'dict'>\n"
     ]
    }
   ],
   "source": [
    "# Delete\n",
    "del dict1['Name'] # remove entry with key 'Name' \n",
    "print (\"directory after removing element\" , dict1) \n",
    "dict1.clear() # remove all entries in dict \n",
    "print (\"directory after clear\" , dict) \n",
    "del dict1 # delete entire dictionary"
   ]
  },
  {
   "attachments": {},
   "cell_type": "markdown",
   "metadata": {},
   "source": [
    "Properties of Dictionaries are:\n",
    "\n",
    " - Dictionary values have no restrictions \n",
    " - They can be any arbitary python object, either standard objects or user - defined objects \n",
    " - However, same is not true for the keys \n",
    " - More than one entry per key not allowed \n",
    " - When duplicate keys encountered during assignment, the last asignment wins \n",
    " - Keys must be immutable \n",
    " - Strings, numbers or tuples as dictionary keys but something like ['key'] is not allowed"
   ]
  },
  {
   "cell_type": "code",
   "execution_count": 9,
   "metadata": {},
   "outputs": [
    {
     "name": "stdout",
     "output_type": "stream",
     "text": [
      "3\n"
     ]
    },
    {
     "data": {
      "text/plain": [
       "\"{'Name': 'Zara', 'Age': 7, 'Class': 'First'}\""
      ]
     },
     "execution_count": 9,
     "metadata": {},
     "output_type": "execute_result"
    }
   ],
   "source": [
    "dict1 = {'Name': 'Zara', 'Age': 7, 'Class': 'First'}\n",
    "print(len(dict1)) # Gives the length of the dictionary\n",
    "str(dict1) # Produces the string representation of the dictionary"
   ]
  },
  {
   "attachments": {},
   "cell_type": "markdown",
   "metadata": {},
   "source": [
    "Dictionary Methods\n",
    "\n",
    "![Dictionary methods](dictionary_methods.png){width=75%}"
   ]
  },
  {
   "attachments": {},
   "cell_type": "markdown",
   "metadata": {},
   "source": [
    "- Iterating all the keys in a dictionary"
   ]
  },
  {
   "cell_type": "code",
   "execution_count": 10,
   "metadata": {},
   "outputs": [
    {
     "name": "stdout",
     "output_type": "stream",
     "text": [
      "Name\n",
      "Age\n",
      "Class\n"
     ]
    }
   ],
   "source": [
    "dict1 = {'Name': 'Zara', 'Age': 7, 'Class': 'First'}\n",
    "\n",
    "for key in dict1.keys():\n",
    "    print(key)"
   ]
  },
  {
   "attachments": {},
   "cell_type": "markdown",
   "metadata": {},
   "source": [
    "- Iterating all the values and ignore the keys"
   ]
  },
  {
   "cell_type": "code",
   "execution_count": 8,
   "metadata": {},
   "outputs": [
    {
     "name": "stdout",
     "output_type": "stream",
     "text": [
      "Zara\n",
      "7\n",
      "First\n"
     ]
    }
   ],
   "source": [
    "for value in dict1.values():\n",
    "    print(value)"
   ]
  },
  {
   "attachments": {},
   "cell_type": "markdown",
   "metadata": {},
   "source": [
    "- Iterate both keys and values in a dictionary using items function"
   ]
  },
  {
   "cell_type": "code",
   "execution_count": 9,
   "metadata": {},
   "outputs": [
    {
     "name": "stdout",
     "output_type": "stream",
     "text": [
      "Name Zara\n",
      "Age 7\n",
      "Class First\n"
     ]
    }
   ],
   "source": [
    "for key, value in dict1.items():\n",
    "    print(key, value)"
   ]
  }
 ],
 "metadata": {
  "kernelspec": {
   "display_name": "base",
   "language": "python",
   "name": "python3"
  },
  "language_info": {
   "codemirror_mode": {
    "name": "ipython",
    "version": 3
   },
   "file_extension": ".py",
   "mimetype": "text/x-python",
   "name": "python",
   "nbconvert_exporter": "python",
   "pygments_lexer": "ipython3",
   "version": "3.9.16"
  },
  "orig_nbformat": 4,
  "vscode": {
   "interpreter": {
    "hash": "984227874f9940044bd041d1cfd0308eaa8d40441275bc1d127b1a36c49d1f76"
   }
  }
 },
 "nbformat": 4,
 "nbformat_minor": 2
}
