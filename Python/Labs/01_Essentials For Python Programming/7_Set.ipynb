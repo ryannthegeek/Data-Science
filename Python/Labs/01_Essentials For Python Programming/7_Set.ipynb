{
 "cells": [
  {
   "attachments": {},
   "cell_type": "markdown",
   "metadata": {},
   "source": [
    "# Set\n",
    "\n",
    "\\textcolor{purple}{Set} is an unordered collection of unique items in python. It is usually written using \\fcolorbox{black}{yellow}{curly brackets}\n",
    "\n",
    "\\begin{itemize}\n",
    "    \\item[\\ding{51}] Unordered.\n",
    "    \\item[\\ding{51}] Eliminates duplicates.\n",
    "    \\item[\\ding{51}] You can place any type of data you want.\n",
    "\\end{itemize}\n",
    "\n",
    "\\ding{42} \\textbf{Example:} `{1, 2, 3, 4, 5}`\n",
    "\n",
    "\\mynote{Items in a set can not be accessed directly using index since sets objects are not subsctiptable or indexed but a loop can be used.}"
   ]
  },
  {
   "cell_type": "code",
   "execution_count": 1,
   "metadata": {},
   "outputs": [
    {
     "name": "stdout",
     "output_type": "stream",
     "text": [
      "{'rhema', 'word', 'peace'}\n",
      "{1, 2, 3}\n",
      "{False, True}\n",
      "<class 'set'>\n"
     ]
    }
   ],
   "source": [
    "set1 = {\"word\", \"rhema\", \"peace\"} # string\n",
    "set2 = {1, 2, 3,} # integers\n",
    "set3 = {False, True, False} # boolean\n",
    "\n",
    "# set variables or items\n",
    "print(set1)\n",
    "print(set2)\n",
    "print(set3)\n",
    "# Type of set_1\n",
    "print(type(set1))"
   ]
  },
  {
   "cell_type": "code",
   "execution_count": 2,
   "metadata": {},
   "outputs": [
    {
     "name": "stdout",
     "output_type": "stream",
     "text": [
      "{True, 'Python', 6}\n"
     ]
    }
   ],
   "source": [
    "# Different data types\n",
    "set4 = {True, \"Python\", 6}\n",
    "print(set4)"
   ]
  },
  {
   "cell_type": "code",
   "execution_count": 3,
   "metadata": {},
   "outputs": [
    {
     "name": "stdout",
     "output_type": "stream",
     "text": [
      "{'yes', True, 7}\n"
     ]
    }
   ],
   "source": [
    "# Create set using set function\n",
    "set5 = set((True, \"yes\", 7))\n",
    "print(set5)"
   ]
  },
  {
   "cell_type": "code",
   "execution_count": null,
   "metadata": {},
   "outputs": [],
   "source": [
    "# Accessing items in a set\n",
    "for item in set5:\n",
    "    print(item)"
   ]
  },
  {
   "cell_type": "code",
   "execution_count": 4,
   "metadata": {},
   "outputs": [
    {
     "name": "stdout",
     "output_type": "stream",
     "text": [
      "True\n",
      "{'yes', True, 'Good', 7}\n",
      "{'yes', True, 7, 'lemon', 'Good', 'cherry'}\n"
     ]
    }
   ],
   "source": [
    "# Checking item in a set\n",
    "print(7 in set5)\n",
    "\n",
    "# add item to a set\n",
    "set5.add(\"Good\")\n",
    "print(set5)\n",
    "\n",
    "# update item in a set\n",
    "set5.update([\"lemon\", \"cherry\"])\n",
    "print(set5)"
   ]
  },
  {
   "attachments": {},
   "cell_type": "markdown",
   "metadata": {},
   "source": [
    "Other set functions inlcude:\n",
    "\n",
    "\\begin{itemize}\n",
    "    \\item[\\ding{70}] \\nl{set5.remove()} for removing item from a list, gives error if the item is not in the list.\n",
    "    \\item[\\ding{70}] \\nl{set5.discard()} for discarding item from a list, does not give error if the item is not in the list.\n",
    "    \\item[\\ding{70}] \\nl{set5.pop()} for removing the last item from list, but remember set are unordered.\n",
    "    \\item[\\ding{70}] \\nl{set5.clear()} for clearing the items in a list.\n",
    "    \\item[\\ding{70}] \\nl{del set5} for deleting the set completely.\n",
    "\\end{itemize}"
   ]
  }
 ],
 "metadata": {
  "kernelspec": {
   "display_name": "base",
   "language": "python",
   "name": "python3"
  },
  "language_info": {
   "codemirror_mode": {
    "name": "ipython",
    "version": 3
   },
   "file_extension": ".py",
   "mimetype": "text/x-python",
   "name": "python",
   "nbconvert_exporter": "python",
   "pygments_lexer": "ipython3",
   "version": "3.9.13"
  },
  "orig_nbformat": 4,
  "vscode": {
   "interpreter": {
    "hash": "984227874f9940044bd041d1cfd0308eaa8d40441275bc1d127b1a36c49d1f76"
   }
  }
 },
 "nbformat": 4,
 "nbformat_minor": 2
}
