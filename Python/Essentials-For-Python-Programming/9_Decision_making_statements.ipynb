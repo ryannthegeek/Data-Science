{
 "cells": [
  {
   "attachments": {},
   "cell_type": "markdown",
   "metadata": {},
   "source": [
    "# Decision making statements\n",
    "\n",
    "Anticipate possible conditions occurring while execution of the program and specify instructions to be executed for each condition.\n",
    "\n",
    "Decision statement evaluates logical expression which produces \\textcolor{green}{TRUE} or \\textcolor{red}{FALSE} as outcome.\n",
    "\n",
    "Specify statements to execute if outcome is \\textcolor{green}{TRUE} or \\textcolor{red}{FALSE}.\n",
    "\n",
    "non-zero and non-null values as \\textcolor{green}{TRUE} zero or null is assumed as \\textcolor{red}{FALSE}.\n",
    "\n",
    "| **Statement** | **Description**\n",
    "| -- | ---------- |\n",
    "| if statement | Consists of a boolean expression followed by one or more statements\n",
    "| if else statement | an if statement followed by an optional else statement, which executes when the boolean expression is \\textcolor{green}{FALSE}\n",
    "| nested if statement | One if or else if statement inside another if or else if statement(s)\n",
    "\n",
    ": Decision making statements\n",
    "\n",
    "## If statement\n",
    "\n",
    "![If flow chart](if%20flow%20chart.png)"
   ]
  },
  {
   "cell_type": "code",
   "execution_count": 1,
   "metadata": {},
   "outputs": [
    {
     "name": "stdout",
     "output_type": "stream",
     "text": [
      "a is less than b\n"
     ]
    }
   ],
   "source": [
    "a = 1\n",
    "b = 2\n",
    "if a < b:\n",
    "  print('a is less than b')"
   ]
  },
  {
   "attachments": {},
   "cell_type": "markdown",
   "metadata": {},
   "source": [
    "## If else statements\n",
    "\n",
    "An optional else combines with if statement\n",
    "\n",
    "if true, then immediately following block is executed\n",
    "\n",
    "if not true(false), block following else is executed\n",
    "\n",
    "![If else flow chart](if%20else%20flow%20chart.png)"
   ]
  },
  {
   "cell_type": "code",
   "execution_count": 2,
   "metadata": {},
   "outputs": [
    {
     "name": "stdout",
     "output_type": "stream",
     "text": [
      "c is not less than d\n"
     ]
    }
   ],
   "source": [
    "c = 4\n",
    "d = 4\n",
    "if c < d:\n",
    "  print(\"c is less than d\")\n",
    "else:\n",
    "  print(\"c is not less than d\")"
   ]
  },
  {
   "attachments": {},
   "cell_type": "markdown",
   "metadata": {},
   "source": [
    "## If elif else statement\n",
    "\n",
    "`elif` statement allows you to check multiple expressions.\n",
    "\n",
    "There can be any number of `elif` statements following an if\n",
    "\n",
    "`elif` statement is also optional"
   ]
  },
  {
   "cell_type": "code",
   "execution_count": 3,
   "metadata": {},
   "outputs": [
    {
     "name": "stdout",
     "output_type": "stream",
     "text": [
      "e is greater than f\n"
     ]
    }
   ],
   "source": [
    "e = 16\n",
    "f = 8\n",
    "if e < f:\n",
    "  print('e is less than f')\n",
    "elif e == f:\n",
    "  print('e is equal to f')\n",
    "elif e > f + 10:\n",
    "  print('e is greater than f by more than ten')\n",
    "else:\n",
    "  print('e is greater than f')"
   ]
  },
  {
   "attachments": {},
   "cell_type": "markdown",
   "metadata": {},
   "source": [
    "## Nested if statement\n",
    "\n",
    "Conditional statements can be nested inside one another"
   ]
  },
  {
   "cell_type": "code",
   "execution_count": 4,
   "metadata": {},
   "outputs": [
    {
     "name": "stdout",
     "output_type": "stream",
     "text": [
      "x is negative\n"
     ]
    }
   ],
   "source": [
    "x = -2\n",
    "if x >= 0:\n",
    "    if x == 0:\n",
    "        print(\"x is zero\")\n",
    "    else:\n",
    "        print(\"x is positive\")\n",
    "else:\n",
    "    print(\"x is negative\")"
   ]
  },
  {
   "attachments": {},
   "cell_type": "markdown",
   "metadata": {},
   "source": [
    "## Single statements suite\n",
    "\n",
    "If the suite of an if clause consists only of a single line, it may go on the same line as the header statement."
   ]
  },
  {
   "cell_type": "code",
   "execution_count": 5,
   "metadata": {},
   "outputs": [
    {
     "name": "stdout",
     "output_type": "stream",
     "text": [
      "pass\n"
     ]
    }
   ],
   "source": [
    "marks = 51\n",
    "if marks >= 50: print('pass')\n",
    "else: print('fail')"
   ]
  }
 ],
 "metadata": {
  "kernelspec": {
   "display_name": "base",
   "language": "python",
   "name": "python3"
  },
  "language_info": {
   "codemirror_mode": {
    "name": "ipython",
    "version": 3
   },
   "file_extension": ".py",
   "mimetype": "text/x-python",
   "name": "python",
   "nbconvert_exporter": "python",
   "pygments_lexer": "ipython3",
   "version": "3.10.10"
  },
  "orig_nbformat": 4,
  "vscode": {
   "interpreter": {
    "hash": "984227874f9940044bd041d1cfd0308eaa8d40441275bc1d127b1a36c49d1f76"
   }
  }
 },
 "nbformat": 4,
 "nbformat_minor": 2
}
