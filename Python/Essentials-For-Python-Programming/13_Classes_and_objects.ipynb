{
 "cells": [
  {
   "attachments": {},
   "cell_type": "markdown",
   "metadata": {},
   "source": [
    "# Classes and Objects\n",
    "\n",
    "\\begin{itemize}\n",
    "    \\item[\\ding{51}] Python is an object oriented language.\n",
    "    \\item[\\ding{51}] Everything in python is an object.\n",
    "    \\item[\\ding{51}] Class is an object contructor.\n",
    "    \\item[\\ding{51}] All classes have a function called \\nl{__init__}. This can be used to assign values to object properties or other operations.\n",
    "\\end{itemize}\n",
    "\n",
    "## Classes"
   ]
  },
  {
   "cell_type": "code",
   "execution_count": 1,
   "metadata": {},
   "outputs": [
    {
     "name": "stdout",
     "output_type": "stream",
     "text": [
      "<class '__main__.NewClass'>\n"
     ]
    }
   ],
   "source": [
    "class NewClass:\n",
    "    num = 10\n",
    "\n",
    "print(NewClass)"
   ]
  },
  {
   "cell_type": "code",
   "execution_count": 2,
   "metadata": {},
   "outputs": [
    {
     "name": "stdout",
     "output_type": "stream",
     "text": [
      "10\n"
     ]
    }
   ],
   "source": [
    "p1 = NewClass() # created a new object base on the class created\n",
    "print(p1.num)"
   ]
  },
  {
   "cell_type": "code",
   "execution_count": 3,
   "metadata": {},
   "outputs": [
    {
     "name": "stdout",
     "output_type": "stream",
     "text": [
      "Don\n",
      "56\n"
     ]
    }
   ],
   "source": [
    "# Using init\n",
    "class Person:\n",
    "    def __init__(self, name, age): # self parameter is a reference to the current instance of the class and is used to access variables that are in this class\n",
    "        self.name = name # in order to access the variable name, self is used\n",
    "        self.age = age\n",
    "\n",
    "obj1 = Person(\"Don\", 56)\n",
    "\n",
    "print(obj1.name)\n",
    "print(obj1.age)"
   ]
  },
  {
   "attachments": {},
   "cell_type": "markdown",
   "metadata": {},
   "source": [
    "## Object Methods\n",
    "\n",
    "- Ojbects can also contain methods and objects are functions that belong to the object."
   ]
  },
  {
   "cell_type": "code",
   "execution_count": 4,
   "metadata": {},
   "outputs": [
    {
     "name": "stdout",
     "output_type": "stream",
     "text": [
      "Hi, my name is Don\n"
     ]
    }
   ],
   "source": [
    "# Creating a simple method in the Pesron class\n",
    "class Person:\n",
    "    def __init__(self, name, age):\n",
    "        self.name = name\n",
    "        self.age = age\n",
    "    def hi(self):\n",
    "        print(\"Hi, my name is \" + self.name)\n",
    "\n",
    "obj1 = Person(\"Don\", 56)\n",
    "obj1.hi()"
   ]
  },
  {
   "attachments": {},
   "cell_type": "markdown",
   "metadata": {},
   "source": [
    "- Properties on objects can also be defined"
   ]
  },
  {
   "cell_type": "code",
   "execution_count": 5,
   "metadata": {},
   "outputs": [
    {
     "name": "stdout",
     "output_type": "stream",
     "text": [
      "50\n"
     ]
    }
   ],
   "source": [
    "# modify obj1\n",
    "obj1.age = 50\n",
    "print(obj1.age)"
   ]
  },
  {
   "attachments": {},
   "cell_type": "markdown",
   "metadata": {},
   "source": [
    "## The `map()` function"
   ]
  },
  {
   "cell_type": "code",
   "execution_count": 6,
   "metadata": {},
   "outputs": [
    {
     "data": {
      "text/plain": [
       "<map at 0x7fafb478c220>"
      ]
     },
     "execution_count": 6,
     "metadata": {},
     "output_type": "execute_result"
    }
   ],
   "source": [
    "store1 = [10.00, 11.00, 12.34, 2.34]\n",
    "strore2 = [9.00, 11.10, 12.34, 2.01]\n",
    "cheapest = map(min, store1, strore2)\n",
    "cheapest"
   ]
  },
  {
   "attachments": {},
   "cell_type": "markdown",
   "metadata": {},
   "source": [
    "Gives a map object, in which you can use for loop to get your answer. This allowa us to have very efficient memory management."
   ]
  },
  {
   "cell_type": "code",
   "execution_count": 7,
   "metadata": {},
   "outputs": [
    {
     "name": "stdout",
     "output_type": "stream",
     "text": [
      "9.0\n",
      "11.0\n",
      "12.34\n",
      "2.01\n"
     ]
    }
   ],
   "source": [
    "for item in cheapest:\n",
    "    print(item)"
   ]
  }
 ],
 "metadata": {
  "kernelspec": {
   "display_name": "base",
   "language": "python",
   "name": "python3"
  },
  "language_info": {
   "codemirror_mode": {
    "name": "ipython",
    "version": 3
   },
   "file_extension": ".py",
   "mimetype": "text/x-python",
   "name": "python",
   "nbconvert_exporter": "python",
   "pygments_lexer": "ipython3",
   "version": "3.10.10"
  },
  "orig_nbformat": 4,
  "vscode": {
   "interpreter": {
    "hash": "984227874f9940044bd041d1cfd0308eaa8d40441275bc1d127b1a36c49d1f76"
   }
  }
 },
 "nbformat": 4,
 "nbformat_minor": 2
}
