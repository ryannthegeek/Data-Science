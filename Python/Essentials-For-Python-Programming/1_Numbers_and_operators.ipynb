{
 "cells": [
  {
   "attachments": {},
   "cell_type": "markdown",
   "metadata": {},
   "source": [
    "# Numbers and Operators\n",
    "\n",
    "1. Integers `int` eg 1\n",
    "2. Floating point numbers `(float)` eg 0.5\n",
    "3. Complex numbers `(complex)`\n",
    "\n",
    "## Arithmetic Operators\n",
    "\n",
    "\\begin{itemize}\n",
    "    \\item[\\ding{51}] Addition \\nl{+}\n",
    "    \\item[\\ding{51}] Subtraction \\nl{-}\n",
    "    \\item[\\ding{51}] Multiplication \\nl{*}\n",
    "    \\item[\\ding{51}] Division \\nl{/} General division.\n",
    "    \\item[\\ding{51}] Modulus \\nl{%} mode operator, gives the remainder after division\n",
    "    \\item[\\ding{51}] Floor Division \\nl{//} Gives the whole number after division\n",
    "    \\item[\\ding{51}] Exponentiation \\nl{**} Is the power of\n",
    "\\end{itemize}\n",
    "\n",
    "## Comparison Operators\n",
    "\n",
    "Comparison operators returns true of false depending on the condition.\n",
    "\n",
    "\\begin{itemize}\n",
    "    \\item[\\ding{51}] Greater than \\nl{>}\n",
    "    \\item[\\ding{51}] Less than \\nl{<}\n",
    "    \\item[\\ding{51}] Logically equivalent to \\nl{==}\n",
    "    \\item[\\ding{51}] Not equal to \\nl{!=}\n",
    "    \\item[\\ding{51}] Greater than or equal to \\nl{>=}\n",
    "    \\item[\\ding{51}] Less than or equal to \\nl{<=}\n",
    "\\end{itemize}\n",
    "\n",
    "## Logical Operators\n",
    "\n",
    "\\begin{itemize}\n",
    "    \\item[\\ding{51}] \\nl{and} : True if both operands are true\n",
    "    \\item[\\ding{51}] \\nl{or} : True if either of the operands is true\n",
    "    \\item[\\ding{51}] \\nl{not} : True if operand is false\n",
    "\\end{itemize}"
   ]
  },
  {
   "cell_type": "code",
   "execution_count": 1,
   "metadata": {},
   "outputs": [
    {
     "name": "stdout",
     "output_type": "stream",
     "text": [
      "a and b is  False\n",
      "a or b is  True\n",
      "not a is  True\n"
     ]
    }
   ],
   "source": [
    "a = False\n",
    "b = True\n",
    "\n",
    "print(\"a and b is \", a and b)\n",
    "print(\"a or b is \", a or b)\n",
    "print(\"not a is \", not a)"
   ]
  },
  {
   "attachments": {},
   "cell_type": "markdown",
   "metadata": {},
   "source": [
    "## Assignment Oprerators\n",
    "\n",
    "Assignment operators are used to assign values to variables.\n",
    "\n",
    "\\begin{itemize}\n",
    "    \\item[\\ding{51}] \\nl{=} gives a variable value\n",
    "    \\item[\\ding{51}] \\nl{+=} adds the the original value of the variable by the new value\n",
    "    \\item[\\ding{51}] \\nl{-=} subtracts the the original value of the variable by the new value\n",
    "    \\item[\\ding{51}] \\nl{*=} multiplies the the original value of the variable by the new value\n",
    "    \\item[\\ding{51}] \\nl{/=} divides the the original value of the variable by the new value\n",
    "\\end{itemize}\n"
   ]
  },
  {
   "cell_type": "code",
   "execution_count": 2,
   "metadata": {},
   "outputs": [
    {
     "data": {
      "text/plain": [
       "10"
      ]
     },
     "execution_count": 2,
     "metadata": {},
     "output_type": "execute_result"
    }
   ],
   "source": [
    "x = 5\n",
    "x += 5 # adds 5 th the original x value\n",
    "x"
   ]
  },
  {
   "attachments": {},
   "cell_type": "markdown",
   "metadata": {},
   "source": [
    "## Identity Operators\n",
    "\n",
    "They are `is` and `is not`. They are used to check if two values or variables are located on the same path of their memory.\n",
    "\n",
    "\n",
    "\\ding{88} Two values that are equal, does not imply that they are equal."
   ]
  },
  {
   "cell_type": "code",
   "execution_count": 3,
   "metadata": {},
   "outputs": [
    {
     "name": "stdout",
     "output_type": "stream",
     "text": [
      "True\n",
      "False\n"
     ]
    }
   ],
   "source": [
    "x = 5\n",
    "y = 10\n",
    "\n",
    "print(x is not y)\n",
    "print(x is y)"
   ]
  },
  {
   "attachments": {},
   "cell_type": "markdown",
   "metadata": {},
   "source": [
    "## Membership Operators\n",
    "\n",
    "They are `in` and `not in` and are used to test whether a value or a variable is found in a sequence like a string, tuple, dictionary etc and returns a true or false value."
   ]
  },
  {
   "cell_type": "code",
   "execution_count": 4,
   "metadata": {},
   "outputs": [
    {
     "name": "stdout",
     "output_type": "stream",
     "text": [
      "True\n",
      "True\n",
      "False\n",
      "False\n"
     ]
    }
   ],
   "source": [
    "x = \"Hi there!\"\n",
    "y = [1, 2, 3, 4]\n",
    "\n",
    "print(\"H\" in x)\n",
    "print(1 in y)\n",
    "print(\"t\" not in x)\n",
    "print(2 not in y)"
   ]
  }
 ],
 "metadata": {
  "kernelspec": {
   "display_name": "base",
   "language": "python",
   "name": "python3"
  },
  "language_info": {
   "codemirror_mode": {
    "name": "ipython",
    "version": 3
   },
   "file_extension": ".py",
   "mimetype": "text/x-python",
   "name": "python",
   "nbconvert_exporter": "python",
   "pygments_lexer": "ipython3",
   "version": "3.10.10"
  },
  "orig_nbformat": 4,
  "vscode": {
   "interpreter": {
    "hash": "984227874f9940044bd041d1cfd0308eaa8d40441275bc1d127b1a36c49d1f76"
   }
  }
 },
 "nbformat": 4,
 "nbformat_minor": 2
}
