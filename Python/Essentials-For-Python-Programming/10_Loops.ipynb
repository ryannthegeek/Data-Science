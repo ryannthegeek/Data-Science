{
 "cells": [
  {
   "attachments": {},
   "cell_type": "markdown",
   "metadata": {},
   "source": [
    "# Loops\n",
    "\n",
    "A loop or iteration is one or more sequential statements executed repeatedly until a certain condition met.\n",
    "\n",
    "## While loop\n",
    "\n",
    "A while loop statement executes a target statement as long as a given condition is true.\n",
    "\n",
    "![While loop](while%20loop.png)"
   ]
  },
  {
   "cell_type": "code",
   "execution_count": 1,
   "metadata": {},
   "outputs": [
    {
     "name": "stdout",
     "output_type": "stream",
     "text": [
      "count 1\n",
      "count 2\n",
      "count 3\n",
      "count 4\n",
      "count 5\n",
      "count 6\n",
      "count 7\n",
      "count 8\n",
      "count 9\n",
      "count 10\n"
     ]
    }
   ],
   "source": [
    "count = 0\n",
    "while count < 10:\n",
    "  count = count + 1\n",
    "  print('count', count)"
   ]
  },
  {
   "attachments": {},
   "cell_type": "markdown",
   "metadata": {},
   "source": [
    "### While Loop else statement\n",
    "\n",
    "When the else statement is used with a while loop, the else statement is executed when the condition becomes false."
   ]
  },
  {
   "cell_type": "code",
   "execution_count": 2,
   "metadata": {},
   "outputs": [
    {
     "name": "stdout",
     "output_type": "stream",
     "text": [
      "0 is less than 10\n",
      "1 is less than 10\n",
      "2 is less than 10\n",
      "3 is less than 10\n",
      "4 is less than 10\n",
      "5 is less than 10\n",
      "6 is less than 10\n",
      "7 is less than 10\n",
      "8 is less than 10\n",
      "9 is less than 10\n",
      "10 is not less than 10\n"
     ]
    }
   ],
   "source": [
    "count = 0\n",
    "while count < 10:\n",
    "  print(count, 'is less than 10')\n",
    "  count = count + 1\n",
    "else:\n",
    "    print(count, 'is not less than 10')"
   ]
  },
  {
   "attachments": {},
   "cell_type": "markdown",
   "metadata": {},
   "source": [
    "## For loop\n",
    "\n",
    "The for loop has the ability to iterate over the items of any sequence,such as a list or a string. If a sequeence contains an expression list, it is evaluated first then, first item in sequence is assigned to iterating variable.\n",
    "\n",
    "Next, the statements block is executed Each item in the list is assigned to iterating variable statement(s) block is executed until the entire sequence is exhausted.\n",
    "\n",
    "![For loop](for%20loop.png)"
   ]
  },
  {
   "cell_type": "code",
   "execution_count": 3,
   "metadata": {},
   "outputs": [
    {
     "name": "stdout",
     "output_type": "stream",
     "text": [
      "1\n",
      "2\n",
      "3\n",
      "4\n",
      "5\n"
     ]
    }
   ],
   "source": [
    "data = [1, 2, 3, 4, 5]\n",
    "for i in data:\n",
    "  print(i)"
   ]
  },
  {
   "attachments": {},
   "cell_type": "markdown",
   "metadata": {},
   "source": [
    "### For loop using `range()` function\n",
    "\n",
    "`range()` function generates list of numbers. It takes 0 as starting parameter but you can specify the starting parameter.\n",
    "\n",
    "\\fcolorbox{black}{cyan}{For example:} `range(2, 7)` returns a sequence of numbers starting from 2 and going to 7, for loop iterates through these numbers."
   ]
  },
  {
   "cell_type": "code",
   "execution_count": 4,
   "metadata": {},
   "outputs": [
    {
     "name": "stdout",
     "output_type": "stream",
     "text": [
      "1\n",
      "3\n",
      "5\n"
     ]
    }
   ],
   "source": [
    "for i in range(1, 6, 2):\n",
    "  print(i)"
   ]
  },
  {
   "attachments": {},
   "cell_type": "markdown",
   "metadata": {},
   "source": [
    "### For loop else statement\n",
    "\n",
    "If the else statement is used with a for loop, the else statement is executed when the loop has exhausted iterating the list.\n"
   ]
  },
  {
   "cell_type": "code",
   "execution_count": 5,
   "metadata": {},
   "outputs": [
    {
     "name": "stdout",
     "output_type": "stream",
     "text": [
      "0\n",
      "1\n",
      "2\n",
      "3\n",
      "4\n",
      "5\n",
      "6\n",
      "7\n",
      "8\n",
      "9\n",
      "end of loop\n"
     ]
    }
   ],
   "source": [
    "count = 0\n",
    "for count in range(10):\n",
    "  print(count)\n",
    "else:\n",
    "  print('end of loop')"
   ]
  },
  {
   "attachments": {},
   "cell_type": "markdown",
   "metadata": {},
   "source": [
    "## Nested loops\n",
    "\n",
    "A nested loop is any type of loop inside of any other type of loop."
   ]
  },
  {
   "cell_type": "code",
   "execution_count": 6,
   "metadata": {},
   "outputs": [
    {
     "name": "stdout",
     "output_type": "stream",
     "text": [
      "1 2 3 4 5 6 7 8 9 10 \n",
      "2 4 6 8 10 12 14 16 18 20 \n",
      "3 6 9 12 15 18 21 24 27 30 \n",
      "4 8 12 16 20 24 28 32 36 40 \n",
      "5 10 15 20 25 30 35 40 45 50 \n",
      "6 12 18 24 30 36 42 48 54 60 \n",
      "7 14 21 28 35 42 49 56 63 70 \n",
      "8 16 24 32 40 48 56 64 72 80 \n",
      "9 18 27 36 45 54 63 72 81 90 \n",
      "10 20 30 40 50 60 70 80 90 100 \n"
     ]
    }
   ],
   "source": [
    "for i in range(1, 11):\n",
    "  for j in range(1, 11):\n",
    "    k = i * j\n",
    "    print(k, end = ' ')\n",
    "  print()"
   ]
  },
  {
   "attachments": {},
   "cell_type": "markdown",
   "metadata": {},
   "source": [
    "## Loop control statements\n",
    "\n",
    "Loop control statements change execution from normal sequence. When execution leaves a scope, all automatic objects in that cope are destroyed.\n",
    "\n",
    "Python supports the following loop control statements:\n",
    "\n",
    "| **Control statment** | **Description** |\n",
    "| -- | --------- |\n",
    "| `break` | Terminate the loop statement and transfers execution to the statement immediately following the loop\n",
    "| `continue` | Causes the loop to skip the remainder of its body and immediately retest its condition prior to re-iterating\n",
    "| `pass` | The pass statement is used when a statement is required syntactically but you don’t want any command or code to execute\n",
    "\n",
    ": Loop control statements\n",
    "\n",
    "### Break statement\n",
    "\n",
    "The break statement terminates the current loop and resumes execution at the next statement.\n",
    "\n",
    "In case of nested loops, the break statement will stop the execution of the innermost loop and start executing the next line of code after the block.\n",
    "\n",
    "![Break statement flow chart](break%20statement.png)"
   ]
  },
  {
   "cell_type": "code",
   "execution_count": 7,
   "metadata": {},
   "outputs": [
    {
     "name": "stdout",
     "output_type": "stream",
     "text": [
      "9\n",
      "8\n",
      "7\n",
      "6\n",
      "4\n",
      "3\n",
      "2\n",
      "1\n",
      "0\n"
     ]
    }
   ],
   "source": [
    "var = 10\n",
    "while var > 0:\n",
    "  var = var - 1\n",
    "  if var == 5:\n",
    "    continue\n",
    "  print(var)"
   ]
  },
  {
   "attachments": {},
   "cell_type": "markdown",
   "metadata": {},
   "source": [
    "### Pass statement\n",
    "\n",
    "The pass statement is used when a statement is required syntactically but you do not want any command or code to execute The pass statement is a null operation,nothing happens when it executes."
   ]
  }
 ],
 "metadata": {
  "kernelspec": {
   "display_name": "base",
   "language": "python",
   "name": "python3"
  },
  "language_info": {
   "codemirror_mode": {
    "name": "ipython",
    "version": 3
   },
   "file_extension": ".py",
   "mimetype": "text/x-python",
   "name": "python",
   "nbconvert_exporter": "python",
   "pygments_lexer": "ipython3",
   "version": "3.10.10"
  },
  "orig_nbformat": 4,
  "vscode": {
   "interpreter": {
    "hash": "984227874f9940044bd041d1cfd0308eaa8d40441275bc1d127b1a36c49d1f76"
   }
  }
 },
 "nbformat": 4,
 "nbformat_minor": 2
}
