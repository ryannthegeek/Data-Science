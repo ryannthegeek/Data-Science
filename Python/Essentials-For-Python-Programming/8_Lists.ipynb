{
 "cells": [
  {
   "attachments": {},
   "cell_type": "markdown",
   "metadata": {},
   "source": [
    "# Lists\n",
    "\n",
    "A **List** can be written as a list of comma-separated values(items) between \\fcolorbox{black}{yellow}{square brackets}. Items in a list need not have the same type. Creating a list is as simple as putting different comma separated values between square brackets.\n",
    "\n",
    "A List:\n",
    "\n",
    "\\begin{itemize}\n",
    "    \\item[\\ding{51}] Store multiple data types.\n",
    "    \\item[\\ding{51}] Ordered and changeable.\n",
    "\\end{itemize}\n",
    "\n",
    "\\ding{42} \\textbf{Example:} `[1, 2, 3, 4, 5]`\n",
    "\n",
    "## Basic list operations\n",
    "\n",
    "Lists respond to all of the general sequence operations.\n",
    "\n",
    "## List methods\n",
    "\n",
    "| **Method** | **Description** |\n",
    "| -- | ------------------ |\n",
    "| `append()` | Adds an element at the end of the list\n",
    "| `clear()`  | Removes all the elements from the list\n",
    "| `copy()` | Returns a copy of the list\n",
    "| `count()` | Returns the number of elements with the specified value\n",
    "| `extend()` | Add the elements of a list (or any iterable), to the end of the current list\n",
    "| `index()` | Returns the index of the first element with the specified value\n",
    "| `insert()` | Adds an element at the specified position\n",
    "| `pop()` | Removes the element at the specified position\n",
    "| `remove()` | Removes the item with the specified value\n",
    "| `reverse()` | Reverses the order of the list\n",
    "| `sort()` | Sorts the list\n",
    "\n",
    ": List manipulation tools\n",
    "\n",
    "The above list methods are used by typing listname.method eg `list1.append()`\n",
    "\n",
    "## Built-in list functions\n",
    "\n",
    "`len(list)` Gives the total length of the list\n",
    "\n",
    "`max(list)` Returns item from the list with max value\n",
    "\n",
    "`min(list)` Returns item from the list with min value\n",
    "\n",
    "`list(seq)` Converts a sequence into list"
   ]
  },
  {
   "cell_type": "code",
   "execution_count": 1,
   "metadata": {},
   "outputs": [
    {
     "name": "stdout",
     "output_type": "stream",
     "text": [
      "['physics', 'chemistry', 1997, 2000]\n",
      "[1, 2, 3, 4, 5]\n",
      "['a', 'b', 'c']\n",
      "[2, 'abs', 3.5, True, 'Hi']\n",
      "<class 'list'>\n"
     ]
    }
   ],
   "source": [
    "list1 = ['physics', 'chemistry', 1997, 2000]\n",
    "list2 = [1, 2, 3, 4, 5]\n",
    "list3 = ['a', 'b', 'c']\n",
    "list4 = [2, 'abs', 3.5, True, \"Hi\"]\n",
    "print(list1)\n",
    "print(list2)\n",
    "print(list3)\n",
    "print(list4)\n",
    "print(type(list4))"
   ]
  },
  {
   "attachments": {},
   "cell_type": "markdown",
   "metadata": {},
   "source": [
    "- Extract or access a list"
   ]
  },
  {
   "cell_type": "code",
   "execution_count": 2,
   "metadata": {},
   "outputs": [
    {
     "name": "stdout",
     "output_type": "stream",
     "text": [
      "2\n",
      "abs\n"
     ]
    }
   ],
   "source": [
    "print(list4[0]) #notice it starts from zero\n",
    "print(list4[1])"
   ]
  },
  {
   "cell_type": "code",
   "execution_count": 3,
   "metadata": {},
   "outputs": [
    {
     "name": "stdout",
     "output_type": "stream",
     "text": [
      "Hi\n",
      "True\n",
      "[2, 'abs']\n"
     ]
    }
   ],
   "source": [
    "# still on extracting\n",
    "print(list4[-1]) # but if you add -ve, it starts with the last element \n",
    "print(list4[-2])\n",
    "print(list4[0:2]) #  NOTICE!  It does not include index 2!!!!!!"
   ]
  },
  {
   "attachments": {},
   "cell_type": "markdown",
   "metadata": {},
   "source": [
    "- Update a list"
   ]
  },
  {
   "cell_type": "code",
   "execution_count": 4,
   "metadata": {},
   "outputs": [
    {
     "name": "stdout",
     "output_type": "stream",
     "text": [
      "['a', 'b', 'd']\n"
     ]
    }
   ],
   "source": [
    "list3[2] = 'd'\n",
    "print(list3)"
   ]
  },
  {
   "attachments": {},
   "cell_type": "markdown",
   "metadata": {},
   "source": [
    "- Delete elements in a list"
   ]
  },
  {
   "cell_type": "code",
   "execution_count": 5,
   "metadata": {},
   "outputs": [
    {
     "name": "stdout",
     "output_type": "stream",
     "text": [
      "['physics', 1997, 2000]\n"
     ]
    }
   ],
   "source": [
    "del list1[1]\n",
    "print(list1)"
   ]
  },
  {
   "attachments": {},
   "cell_type": "markdown",
   "metadata": {},
   "source": [
    "- To check if a specific item is in the list"
   ]
  },
  {
   "cell_type": "code",
   "execution_count": 6,
   "metadata": {},
   "outputs": [
    {
     "name": "stdout",
     "output_type": "stream",
     "text": [
      "correct\n"
     ]
    }
   ],
   "source": [
    "list4 = [2, 'abs', 3.5, True, \"Hi\"]\n",
    "if \"Hi\" in list4:\n",
    "    print(\"correct\")"
   ]
  },
  {
   "attachments": {},
   "cell_type": "markdown",
   "metadata": {},
   "source": [
    "- Another simpler way of checking items in a list that returns a boolean value"
   ]
  },
  {
   "cell_type": "code",
   "execution_count": 7,
   "metadata": {},
   "outputs": [
    {
     "data": {
      "text/plain": [
       "True"
      ]
     },
     "execution_count": 7,
     "metadata": {},
     "output_type": "execute_result"
    }
   ],
   "source": [
    "'abs'  in list4"
   ]
  },
  {
   "cell_type": "code",
   "execution_count": 8,
   "metadata": {},
   "outputs": [
    {
     "name": "stdout",
     "output_type": "stream",
     "text": [
      "wrong\n"
     ]
    }
   ],
   "source": [
    "if \"There\" in list4:\n",
    "    print(\"correct\")\n",
    "else:\n",
    "    print(\"wrong\")"
   ]
  },
  {
   "attachments": {},
   "cell_type": "markdown",
   "metadata": {},
   "source": [
    "- Inserting list in another list"
   ]
  },
  {
   "cell_type": "code",
   "execution_count": 9,
   "metadata": {},
   "outputs": [
    {
     "name": "stdout",
     "output_type": "stream",
     "text": [
      "[['Apple', 'Watermelon'], 'abs', 3.5, True, 'Hi']\n"
     ]
    }
   ],
   "source": [
    "list4[0] = [\"Apple\", \"Watermelon\"]\n",
    "print(list4)"
   ]
  },
  {
   "attachments": {},
   "cell_type": "markdown",
   "metadata": {},
   "source": [
    "- Inserting using insert function"
   ]
  },
  {
   "cell_type": "code",
   "execution_count": 10,
   "metadata": {},
   "outputs": [
    {
     "name": "stdout",
     "output_type": "stream",
     "text": [
      "[['Apple', 'Watermelon'], ['Apple', 'Watermelon'], 'abs', 3.5, True, 'Hi']\n"
     ]
    }
   ],
   "source": [
    "list4.insert(1, [\"Apple\", \"Watermelon\"]) # as you run more times, it keeps on inserting\n",
    "print(list4)"
   ]
  },
  {
   "attachments": {},
   "cell_type": "markdown",
   "metadata": {},
   "source": [
    "- append function"
   ]
  },
  {
   "cell_type": "code",
   "execution_count": 11,
   "metadata": {},
   "outputs": [
    {
     "name": "stdout",
     "output_type": "stream",
     "text": [
      "[1, 2, 3, 4, 5]\n"
     ]
    }
   ],
   "source": [
    "x = [1, 2, 3, 4]\n",
    "x.append(5)\n",
    "print(x)"
   ]
  },
  {
   "attachments": {},
   "cell_type": "markdown",
   "metadata": {},
   "source": [
    "- The `+` operator adds lists"
   ]
  },
  {
   "cell_type": "code",
   "execution_count": 12,
   "metadata": {},
   "outputs": [
    {
     "data": {
      "text/plain": [
       "[1, 2, 3, 4]"
      ]
     },
     "execution_count": 12,
     "metadata": {},
     "output_type": "execute_result"
    }
   ],
   "source": [
    "[1, 2] + [3, 4]"
   ]
  },
  {
   "attachments": {},
   "cell_type": "markdown",
   "metadata": {},
   "source": [
    "- The `*` character repeats values of a list"
   ]
  },
  {
   "cell_type": "code",
   "execution_count": 13,
   "metadata": {},
   "outputs": [
    {
     "data": {
      "text/plain": [
       "[1, 1, 1]"
      ]
     },
     "execution_count": 13,
     "metadata": {},
     "output_type": "execute_result"
    }
   ],
   "source": [
    "[1] * 3"
   ]
  },
  {
   "attachments": {},
   "cell_type": "markdown",
   "metadata": {},
   "source": [
    "- Using for loop inside a list"
   ]
  },
  {
   "cell_type": "code",
   "execution_count": 14,
   "metadata": {},
   "outputs": [
    {
     "data": {
      "text/plain": [
       "[0, 2, 4, 6, 8]"
      ]
     },
     "execution_count": 14,
     "metadata": {},
     "output_type": "execute_result"
    }
   ],
   "source": [
    "my_list = []\n",
    "for number in range(0, 10):\n",
    "    if number % 2 == 0:\n",
    "        my_list.append(number)\n",
    "\n",
    "my_list"
   ]
  },
  {
   "cell_type": "code",
   "execution_count": 15,
   "metadata": {},
   "outputs": [
    {
     "data": {
      "text/plain": [
       "[0, 2, 4, 6, 8]"
      ]
     },
     "execution_count": 15,
     "metadata": {},
     "output_type": "execute_result"
    }
   ],
   "source": [
    "my_list = [number for number in range(0, 10) if number % 2 == 0]\n",
    "my_list"
   ]
  }
 ],
 "metadata": {
  "kernelspec": {
   "display_name": "base",
   "language": "python",
   "name": "python3"
  },
  "language_info": {
   "codemirror_mode": {
    "name": "ipython",
    "version": 3
   },
   "file_extension": ".py",
   "mimetype": "text/x-python",
   "name": "python",
   "nbconvert_exporter": "python",
   "pygments_lexer": "ipython3",
   "version": "3.10.10"
  },
  "orig_nbformat": 4,
  "vscode": {
   "interpreter": {
    "hash": "984227874f9940044bd041d1cfd0308eaa8d40441275bc1d127b1a36c49d1f76"
   }
  }
 },
 "nbformat": 4,
 "nbformat_minor": 2
}
